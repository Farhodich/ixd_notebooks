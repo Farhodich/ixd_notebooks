{
    "cells": [
     {
      "cell_type": "markdown",
      "metadata": {},
      "source": [
       "# Two-Point Threshold Test Analysis\n",
       "\n",
       "This notebook analyzes the data collected from the two-point threshold test, which measures tactile perception across different body parts. The test determines how finely innervated different areas of skin are by finding the minimum distance at which two points can be distinguished.\n",
       "\n",
       "## Setup and Dependencies"
      ]
     },
     {
      "cell_type": "code",
      "execution_count": null,
      "metadata": {},
      "source": [
       "import pandas as pd\n",
       "import numpy as np\n",
       "import matplotlib.pyplot as plt\n",
       "import seaborn as sns\n",
       "\n",
       "# Set style for better visualizations\n",
       "plt.style.use('seaborn')\n",
       "sns.set_palette('husl')"
      ]
     },
     {
      "cell_type": "markdown",
      "metadata": {},
      "source": [
       "## Data Input\n",
       "\n",
       "Create a DataFrame to store the measurements from different body parts. The data structure follows the table format from the experiment."
      ]
     },
     {
      "cell_type": "code",
      "execution_count": null,
      "metadata": {},
      "source": [
       "# Create sample data structure\n",
       "data = {\n",
       "    'Subject': [1, 2, 3],\n",
       "    'Fingertip': [0.0, 0.0, 0.0],\n",
       "    'Palm': [0.0, 0.0, 0.0],\n",
       "    'Wrist': [0.0, 0.0, 0.0],\n",
       "    'Forearm': [0.0, 0.0, 0.0],\n",
       "    'Shoulder': [0.0, 0.0, 0.0]\n",
       "}\n",
       "\n",
       "df = pd.DataFrame(data)\n",
       "print(\"Initial data structure:\")\n",
       "display(df)"
      ]
     },
     {
      "cell_type": "markdown",
      "metadata": {},
      "source": [
       "## Data Analysis\n",
       "\n",
       "Calculate basic statistics for each body part measurement."
      ]
     },
     {
      "cell_type": "code",
      "execution_count": null,
      "metadata": {},
      "source": [
       "# Calculate statistics\n",
       "stats = df.drop('Subject', axis=1).agg(['mean', 'std', 'min', 'max'])\n",
       "print(\"\\nStatistical Analysis:\")\n",
       "display(stats)"
      ]
     },
     {
      "cell_type": "markdown",
      "metadata": {},
      "source": [
       "## Data Visualization\n",
       "\n",
       "### 1. Box Plot\n",
       "This visualization shows the distribution of threshold values for each body part."
      ]
     },
     {
      "cell_type": "code",
      "execution_count": null,
      "metadata": {},
      "source": [
       "plt.figure(figsize=(12, 6))\n",
       "df_melted = df.melt(id_vars=['Subject'], var_name='Body Part', value_name='Threshold (mm)')\n",
       "\n",
       "sns.boxplot(x='Body Part', y='Threshold (mm)', data=df_melted)\n",
       "plt.title('Two-Point Threshold Distribution by Body Part')\n",
       "plt.xticks(rotation=45)\n",
       "plt.tight_layout()\n",
       "plt.show()"
      ]
     },
     {
      "cell_type": "markdown",
      "metadata": {},
      "source": [
       "### 2. Bar Plot\n",
       "Shows the average threshold values for each body part with error bars."
      ]
     },
     {
      "cell_type": "code",
      "execution_count": null,
      "metadata": {},
      "source": [
       "plt.figure(figsize=(12, 6))\n",
       "means = df_melted.groupby('Body Part')['Threshold (mm)'].mean()\n",
       "sems = df_melted.groupby('Body Part')['Threshold (mm)'].sem()\n",
       "\n",
       "means.plot(kind='bar', yerr=sems, capsize=5)\n",
       "plt.title('Average Two-Point Threshold by Body Part')\n",
       "plt.xlabel('Body Part')\n",
       "plt.ylabel('Average Threshold (mm)')\n",
       "plt.xticks(rotation=45)\n",
       "plt.tight_layout()\n",
       "plt.show()"
      ]
     },
     {
      "cell_type": "markdown",
      "metadata": {},
      "source": [
       "## Instructions for Use\n",
       "\n",
       "1. Enter your measurement data in the DataFrame created in the second code cell\n",
       "2. Run all cells to generate statistics and visualizations\n",
       "3. The box plot shows the distribution of measurements across all subjects\n",
       "4. The bar plot displays average thresholds with standard error bars\n",
       "\n",
       "### Note\n",
       "- Measurements should be entered in millimeters (mm)\n",
       "- Ensure all measurements are taken following the standard procedure\n",
       "- For accurate results, maintain consistent testing conditions across all subjects"
      ]
     }
    ],
    "metadata": {
     "kernelspec": {
      "display_name": "Python 3",
      "language": "python",
      "name": "python3"
     },
     "language_info": {
      "codemirror_mode": {
       "name": "ipython",
       "version": 3
      },
      "file_extension": ".py",
      "mimetype": "text/x-python",
      "name": "python",
      "nbconvert_exporter": "python",
      "pygments_lexer": "ipython3",
      "version": "3.8.0"
     }
    },
    "nbformat": 4,
    "nbformat_minor": 4
   }