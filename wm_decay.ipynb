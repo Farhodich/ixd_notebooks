{
 "cells": [
  {
   "cell_type": "markdown",
   "metadata": {},
   "source": [
    "# Working Memory Decay Analysis\n",
    "\n",
    "This notebook analyzes the decay of working memory over different time intervals and serial positions. The experiment follows the methodology where participants are shown a list of words and asked to recall them after different time delays.\n",
    "\n",
    "## Setup and Dependencies"
   ]
  },
  {
   "cell_type": "code",
   "execution_count": null,
   "metadata": {},
   "outputs": [],
   "source": [
    "# Install required packages\n",
    "!pip install pandas numpy matplotlib seaborn\n"
   ]
  },
  {
   "cell_type": "code",
   "execution_count": null,
   "metadata": {},
   "outputs": [],
   "source": [
    "import pandas as pd\n",
    "import numpy as np\n",
    "import matplotlib.pyplot as plt\n",
    "import seaborn as sns\n",
    "\n",
    "# Set style for better visualizations\n",
    "plt.style.use('seaborn')\n",
    "sns.set_palette(\"husl\")"
   ]
  },
  {
   "cell_type": "markdown",
   "metadata": {},
   "source": [
    "## Data Input\n",
    "\n",
    "Create a function to input experimental data. The data structure will store:\n",
    "- Student name\n",
    "- Time delay (0s, 5s, 20s, 1min, 5min)\n",
    "- Number of words remembered\n",
    "- Position of missed words"
   ]
  },
  {
   "cell_type": "code",
   "execution_count": null,
   "metadata": {},
   "outputs": [],
   "source": [
    "def create_wm_dataframe():\n",
    "    \"\"\"Create an empty DataFrame to store WM decay data\"\"\"\n",
    "    columns = ['student', 'delay', 'total_words', 'remembered', 'percentage', 'missed_positions']\n",
    "    return pd.DataFrame(columns=columns)\n",
    "\n",
    "def add_participant_data(df, student, delay, remembered, missed_positions, total_words=20):\n",
    "    \"\"\"Add a participant's data to the DataFrame\"\"\"\n",
    "    percentage = (remembered / total_words) * 100\n",
    "    new_row = {\n",
    "        'student': student,\n",
    "        'delay': delay,\n",
    "        'total_words': total_words,\n",
    "        'remembered': remembered,\n",
    "        'percentage': percentage,\n",
    "        'missed_positions': missed_positions\n",
    "    }\n",
    "    return df.append(new_row, ignore_index=True)"
   ]
  },
  {
   "cell_type": "markdown",
   "metadata": {},
   "source": [
    "## Analysis Functions"
   ]
  },
  {
   "cell_type": "code",
   "execution_count": null,
   "metadata": {},
   "outputs": [],
   "source": [
    "def plot_decay_curve(df):\n",
    "    \"\"\"Plot WM decay curve over time delays\"\"\"\n",
    "    plt.figure(figsize=(10, 6))\n",
    "    \n",
    "    # Convert delay to numeric values in seconds for plotting\n",
    "    delay_mapping = {\n",
    "        '0s': 0,\n",
    "        '5s': 5,\n",
    "        '20s': 20,\n",
    "        '1min': 60,\n",
    "        '5min': 300\n",
    "    }\n",
    "    \n",
    "    # Calculate mean percentage for each delay\n",
    "    mean_percentages = df.groupby('delay')['percentage'].mean()\n",
    "    \n",
    "    # Plot\n",
    "    plt.plot(mean_percentages.index, mean_percentages.values, 'o-', linewidth=2)\n",
    "    plt.xlabel('Time Delay')\n",
    "    plt.ylabel('Recall Percentage (%)')\n",
    "    plt.title('Working Memory Decay Over Time')\n",
    "    plt.grid(True)\n",
    "    return plt\n",
    "\n",
    "def plot_serial_position(df):\n",
    "    \"\"\"Plot serial position curve using missed positions data\"\"\"\n",
    "    # Create array to store hit rates for each position\n",
    "    positions = np.zeros(20)\n",
    "    total_trials = len(df)\n",
    "    \n",
    "    # Count misses for each position\n",
    "    for _, row in df.iterrows():\n",
    "        missed = eval(row['missed_positions']) if isinstance(row['missed_positions'], str) else row['missed_positions']\n",
    "        for pos in missed:\n",
    "            positions[pos-1] += 1\n",
    "    \n",
    "    # Convert to hit rates\n",
    "    hit_rates = [(total_trials - misses) / total_trials * 100 for misses in positions]\n",
    "    \n",
    "    # Plot\n",
    "    plt.figure(figsize=(12, 6))\n",
    "    plt.plot(range(1, 21), hit_rates, 'o-', linewidth=2)\n",
    "    plt.xlabel('Serial Position')\n",
    "    plt.ylabel('Recall Percentage (%)')\n",
    "    plt.title('Serial Position Curve')\n",
    "    plt.grid(True)\n",
    "    return plt"
   ]
  },
  {
   "cell_type": "markdown",
   "metadata": {},
   "source": [
    "## Example Usage\n",
    "\n",
    "Here's how to use the notebook with sample data:"
   ]
  },
  {
   "cell_type": "code",
   "execution_count": null,
   "metadata": {},
   "outputs": [],
   "source": [
    "# Create empty DataFrame\n",
    "wm_data = create_wm_dataframe()\n",
    "\n",
    "# Add sample data (replace with your actual data)\n",
    "wm_data = add_participant_data(wm_data, 'Student1', '0s', 18, [15, 18])\n",
    "wm_data = add_participant_data(wm_data, 'Student1', '5s', 16, [7, 12, 15, 18])\n",
    "wm_data = add_participant_data(wm_data, 'Student1', '20s', 14, [5, 8, 11, 15, 17, 19])\n",
    "\n",
    "# Display the data\n",
    "print(\"Working Memory Decay Data:\")\n",
    "display(wm_data)\n",
    "\n",
    "# Create plots\n",
    "plot_decay_curve(wm_data)\n",
    "plt.show()\n",
    "\n",
    "plot_serial_position(wm_data)\n",
    "plt.show()"
   ]
  },
  {
   "cell_type": "markdown",
   "metadata": {},
   "source": [
    "## Statistical Analysis"
   ]
  },
  {
   "cell_type": "code",
   "execution_count": null,
   "metadata": {},
   "outputs": [],
   "source": [
    "def analyze_results(df):\n",
    "    \"\"\"Perform statistical analysis on the WM decay data\"\"\"\n",
    "    # Basic statistics\n",
    "    print(\"\\nSummary Statistics:\")\n",
    "    print(df.groupby('delay')['percentage'].describe())\n",
    "    \n",
    "    # Primacy effect (first 3 positions)\n",
    "    primacy_positions = [1, 2, 3]\n",
    "    primacy_misses = df['missed_positions'].apply(lambda x: \n",
    "        len([pos for pos in (eval(x) if isinstance(x, str) else x) if pos in primacy_positions]))\n",
    "    primacy_rate = (1 - primacy_misses.sum() / (len(df) * len(primacy_positions))) * 100\n",
    "    \n",
    "    # Recency effect (last 3 positions)\n",
    "    recency_positions = [18, 19, 20]\n",
    "    recency_misses = df['missed_positions'].apply(lambda x: \n",
    "        len([pos for pos in (eval(x) if isinstance(x, str) else x) if pos in recency_positions]))\n",
    "    recency_rate = (1 - recency_misses.sum() / (len(df) * len(recency_positions))) * 100\n",
    "    \n",
    "    print(f\"\\nPrimacy Effect (first 3 positions): {primacy_rate:.1f}% recall rate\")\n",
    "    print(f\"Recency Effect (last 3 positions): {recency_rate:.1f}% recall rate\")\n",
    "\n",
    "# Run analysis\n",
    "analyze_results(wm_data)"
   ]
  }
 ],
 "metadata": {
  "kernelspec": {
   "display_name": "Python 3",
   "language": "python",
   "name": "python3"
  },
  "language_info": {
   "codemirror_mode": {
    "name": "ipython",
    "version": 3
   },
   "file_extension": ".py",
   "mimetype": "text/x-python",
   "name": "python",
   "nbconvert_exporter": "python",
   "pygments_lexer": "ipython3",
   "version": "3.8.0"
  }
 },
 "nbformat": 4,
 "nbformat_minor": 4
}
